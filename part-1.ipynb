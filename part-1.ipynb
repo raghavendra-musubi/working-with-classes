{
 "metadata": {
  "language_info": {
   "codemirror_mode": {
    "name": "ipython",
    "version": 3
   },
   "file_extension": ".py",
   "mimetype": "text/x-python",
   "name": "python",
   "nbconvert_exporter": "python",
   "pygments_lexer": "ipython3",
   "version": "3.8.5-final"
  },
  "orig_nbformat": 2,
  "kernelspec": {
   "name": "Python 3.8.5 64-bit",
   "display_name": "Python 3.8.5 64-bit",
   "metadata": {
    "interpreter": {
     "hash": "082e9a3bcad0a290d0001e938aa60b99250c6c2ef33a923c00b70f9826caf4b7"
    }
   }
  }
 },
 "nbformat": 4,
 "nbformat_minor": 2,
 "cells": [
  {
   "source": [
    "# Classes and Instances\n",
    "\n",
    "- attributes: data of a class\n",
    "- methods: functions of a class "
   ],
   "cell_type": "markdown",
   "metadata": {}
  },
  {
   "source": [
    "### Use case: \n",
    "\n",
    "- to represent employees at a company\n",
    "- a `Class` can be used as a blueprint for an employee"
   ],
   "cell_type": "markdown",
   "metadata": {}
  },
  {
   "cell_type": "code",
   "execution_count": 22,
   "metadata": {},
   "outputs": [],
   "source": [
    "# simple employee class\n",
    "class Employee:\n",
    "    pass # to enable empty class without attributes and methods"
   ]
  },
  {
   "source": [
    "# Class vs. Instance of a Class\n",
    "\n",
    "- class is the blueprint \n",
    "- employee created from the class is an instance of that class\n",
    "    - this process is called instatiating "
   ],
   "cell_type": "markdown",
   "metadata": {}
  },
  {
   "cell_type": "code",
   "execution_count": 23,
   "metadata": {},
   "outputs": [],
   "source": [
    "emp_1 = Employee()\n",
    "emp_2 = Employee()"
   ]
  },
  {
   "cell_type": "code",
   "execution_count": 24,
   "metadata": {
    "tags": []
   },
   "outputs": [
    {
     "output_type": "stream",
     "name": "stdout",
     "text": "<__main__.Employee object at 0x109190610>\n<__main__.Employee object at 0x109a8e8b0>\n"
    }
   ],
   "source": [
    "print(emp_1)\n",
    "print(emp_2)"
   ]
  },
  {
   "source": [
    "- both the instances of the class have different memory locations \n",
    "\n",
    "- the attributes of an instantiated object can be initialized on the fly"
   ],
   "cell_type": "markdown",
   "metadata": {}
  },
  {
   "cell_type": "code",
   "execution_count": 25,
   "metadata": {},
   "outputs": [],
   "source": [
    "emp_1.first = 'Leonie'\n",
    "emp_1.last = 'Delorenzo'\n",
    "emp_1.email = 'Leonie.Delorenzo@company.com'\n",
    "emp_1.pay = 50000\n",
    "\n",
    "emp_2.first = 'Mafalda'\n",
    "emp_2.last = 'Kogan'\n",
    "emp_2.email = 'Mafalda.Kogan@company.com'\n",
    "emp_2.pay = 60000"
   ]
  },
  {
   "cell_type": "code",
   "execution_count": 26,
   "metadata": {
    "tags": []
   },
   "outputs": [
    {
     "output_type": "stream",
     "name": "stdout",
     "text": "{'first': 'Leonie', 'last': 'Delorenzo', 'email': 'Leonie.Delorenzo@company.com', 'pay': 50000}\n{'first': 'Mafalda', 'last': 'Kogan', 'email': 'Mafalda.Kogan@company.com', 'pay': 60000}\n"
    }
   ],
   "source": [
    "print(emp_1.__dict__)\n",
    "print(emp_2.__dict__)"
   ]
  },
  {
   "source": [
    "# Initializing the class \"Employee\" \n",
    "\n",
    "- the attributes can be initialized in class blueprint \n",
    "- that way, attributes can be set during instantiation and not later (on-the-fly)"
   ],
   "cell_type": "markdown",
   "metadata": {}
  },
  {
   "cell_type": "code",
   "execution_count": 27,
   "metadata": {},
   "outputs": [],
   "source": [
    "class Employee:\n",
    "\n",
    "    def __init__(self, first, last, pay):\n",
    "        self.first = first\n",
    "        self.last = last\n",
    "        self.pay = pay\n",
    "        self.email = first.lower() + '.' + last.lower() + '@company.com'\n"
   ]
  },
  {
   "cell_type": "code",
   "execution_count": 28,
   "metadata": {},
   "outputs": [],
   "source": [
    "emp_3 = Employee('Malcom','Stonerock',70000)\n",
    "emp_4 = Employee('Hedwig','Perz',80000)"
   ]
  },
  {
   "cell_type": "code",
   "execution_count": 21,
   "metadata": {
    "tags": []
   },
   "outputs": [
    {
     "output_type": "stream",
     "name": "stdout",
     "text": "{'first': 'Malcom', 'last': 'Stonerock', 'pay': 70000, 'email': 'Malcom.Stonerock@company.com'}\n{'first': 'Hedwig', 'last': 'Perz', 'pay': 80000, 'email': 'Hedwig.Perz@company.com'}\n"
    }
   ],
   "source": [
    "print(emp_3.__dict__)\n",
    "print(emp_4.__dict__)"
   ]
  },
  {
   "source": [
    "# Building Methods"
   ],
   "cell_type": "markdown",
   "metadata": {}
  },
  {
   "source": [
    "class Employee:\n",
    "\n",
    "    def __init__(self, first, last, pay):\n",
    "        self.first = first\n",
    "        self.last = last\n",
    "        self.pay = pay\n",
    "        self.email = first.lower() + '.' + last.lower() + '@company.com'\n",
    "\n",
    "    def fullname(self):\n",
    "        return self.first + ' ' + self.last\n"
   ],
   "cell_type": "code",
   "metadata": {},
   "execution_count": 40,
   "outputs": []
  },
  {
   "cell_type": "code",
   "execution_count": 41,
   "metadata": {},
   "outputs": [],
   "source": [
    "emp_5 = Employee('Jeremy','Gable',90000)\n",
    "emp_6 = Employee('Shenita','Solie',100000)"
   ]
  },
  {
   "cell_type": "code",
   "execution_count": 42,
   "metadata": {
    "tags": []
   },
   "outputs": [
    {
     "output_type": "stream",
     "name": "stdout",
     "text": "Jeremy Gable\n"
    }
   ],
   "source": [
    "print(emp_5.fullname())"
   ]
  },
  {
   "cell_type": "code",
   "execution_count": 43,
   "metadata": {
    "tags": []
   },
   "outputs": [
    {
     "output_type": "stream",
     "name": "stdout",
     "text": "Shenita Solie\n"
    }
   ],
   "source": [
    "print(emp_6.fullname())"
   ]
  }
 ]
}