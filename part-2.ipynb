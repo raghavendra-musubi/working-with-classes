{
 "metadata": {
  "language_info": {
   "codemirror_mode": {
    "name": "ipython",
    "version": 3
   },
   "file_extension": ".py",
   "mimetype": "text/x-python",
   "name": "python",
   "nbconvert_exporter": "python",
   "pygments_lexer": "ipython3",
   "version": "3.8.5-final"
  },
  "orig_nbformat": 2,
  "kernelspec": {
   "name": "Python 3.8.5 64-bit",
   "display_name": "Python 3.8.5 64-bit",
   "metadata": {
    "interpreter": {
     "hash": "082e9a3bcad0a290d0001e938aa60b99250c6c2ef33a923c00b70f9826caf4b7"
    }
   }
  }
 },
 "nbformat": 4,
 "nbformat_minor": 2,
 "cells": [
  {
   "source": [
    "# regular methods, class methods & static methods\n",
    "\n",
    "- regular methods automatically take the instance as the first argument\n",
    "    - by convention, it is called `self`\n",
    "\n",
    "- class methods takes the class itself as the first argument \n",
    "    - by convention, it is called `cls`\n",
    "    - the full word `class` is a python keyword \n",
    "        - and cannot be used as the first class method argument\n",
    "\n",
    "- static methods do not take either the instance or the class as the first argument of the method"
   ],
   "cell_type": "markdown",
   "metadata": {}
  },
  {
   "source": [
    "# class methods"
   ],
   "cell_type": "markdown",
   "metadata": {}
  },
  {
   "cell_type": "code",
   "execution_count": 7,
   "metadata": {},
   "outputs": [],
   "source": [
    "class Employee:\n",
    "\n",
    "    num_of_employees = 0\n",
    "    raise_amount = 1.05\n",
    "\n",
    "    def __init__(self, first, last, pay):\n",
    "        self.first = first\n",
    "        self.last = last\n",
    "        self.pay = pay\n",
    "        self.email = first.lower() + '.' + last.lower() + '@company.com'\n",
    "        Employee.num_of_employees += 1\n",
    "\n",
    "    def fullname(self):\n",
    "        return self.first + ' ' + self.last\n",
    "\n",
    "    def apply_raise(self):\n",
    "        self.pay = int(self.pay * Employee.raise_amount) \n",
    "\n",
    "    @classmethod\n",
    "    def set_raise_amount(cls,amount):\n",
    "        cls.raise_amount = amount\n",
    "\n",
    "        "
   ]
  },
  {
   "cell_type": "code",
   "execution_count": 8,
   "metadata": {
    "tags": []
   },
   "outputs": [
    {
     "output_type": "stream",
     "name": "stdout",
     "text": "1.05\n1.05\n1.05\n"
    }
   ],
   "source": [
    "emp_3 = Employee('Malcom','Stonerock',70000)\n",
    "emp_4 = Employee('Hedwig','Perz',80000)\n",
    "\n",
    "print(Employee.raise_amount)\n",
    "print(emp_3.raise_amount)\n",
    "print(emp_4.raise_amount)"
   ]
  },
  {
   "cell_type": "code",
   "execution_count": 10,
   "metadata": {
    "tags": []
   },
   "outputs": [
    {
     "output_type": "stream",
     "name": "stdout",
     "text": "1.06\n1.06\n1.06\n"
    }
   ],
   "source": [
    "Employee.set_raise_amount(1.06)\n",
    "\n",
    "print(Employee.raise_amount)\n",
    "print(emp_3.raise_amount)\n",
    "print(emp_4.raise_amount)"
   ]
  },
  {
   "source": [
    "- when a class method is used to update a class variable, the variable value changes for all instances of the class\n",
    "    - even if the class method is used from an instance of the class "
   ],
   "cell_type": "markdown",
   "metadata": {}
  },
  {
   "source": [
    "### Create a new employee from a string of text - An alternative constructor"
   ],
   "cell_type": "markdown",
   "metadata": {}
  },
  {
   "cell_type": "code",
   "execution_count": 11,
   "metadata": {},
   "outputs": [],
   "source": [
    "emp_str_1 = 'Angila-Marrow-50000'\n",
    "emp_str_2 = 'Forrest-Rein-35000'\n",
    "emp_str_3 = 'Denita-Mcinnis-60000'"
   ]
  },
  {
   "cell_type": "code",
   "execution_count": 12,
   "metadata": {},
   "outputs": [],
   "source": [
    "first, last, pay = emp_str_1.split('-')"
   ]
  },
  {
   "cell_type": "code",
   "execution_count": 14,
   "metadata": {
    "tags": []
   },
   "outputs": [
    {
     "output_type": "stream",
     "name": "stdout",
     "text": "{'first': 'Angila', 'last': 'Marrow', 'pay': '50000', 'email': 'angila.marrow@company.com'}\n"
    }
   ],
   "source": [
    "new_emp_1 = Employee(first,last,pay)\n",
    "print(new_emp_1.__dict__)"
   ]
  },
  {
   "cell_type": "code",
   "execution_count": 24,
   "metadata": {},
   "outputs": [],
   "source": [
    "class Employee:\n",
    "\n",
    "    num_of_employees = 0\n",
    "    raise_amount = 1.05\n",
    "\n",
    "    def __init__(self, first, last, pay):\n",
    "        self.first = first\n",
    "        self.last = last\n",
    "        self.pay = pay\n",
    "        self.email = first.lower() + '.' + last.lower() + '@company.com'\n",
    "        Employee.num_of_employees += 1\n",
    "\n",
    "    def fullname(self):\n",
    "        return self.first + ' ' + self.last\n",
    "\n",
    "    def apply_raise(self):\n",
    "        self.pay = int(self.pay * Employee.raise_amount) \n",
    "\n",
    "    @classmethod\n",
    "    def set_raise_amount(cls, amount):\n",
    "        cls.raise_amount = amount\n",
    "\n",
    "    @classmethod #alternative constructor\n",
    "    def from_string(cls, employee_string):\n",
    "        first, last, pay = employee_string.split(\"-\")\n",
    "        return cls(first,last,pay)\n"
   ]
  },
  {
   "cell_type": "code",
   "execution_count": 25,
   "metadata": {},
   "outputs": [],
   "source": [
    "emp_str_1 = 'Angila-Marrow-50000'\n",
    "emp_str_2 = 'Forrest-Rein-35000'\n",
    "emp_str_3 = 'Denita-Mcinnis-60000'"
   ]
  },
  {
   "cell_type": "code",
   "execution_count": 29,
   "metadata": {
    "tags": []
   },
   "outputs": [
    {
     "output_type": "stream",
     "name": "stdout",
     "text": "{'first': 'Angila', 'last': 'Marrow', 'pay': '50000', 'email': 'angila.marrow@company.com'}\n"
    }
   ],
   "source": [
    "new_emp_1 = Employee.from_string(emp_str_1)\n",
    "print(new_emp_1.__dict__)"
   ]
  },
  {
   "cell_type": "code",
   "execution_count": 30,
   "metadata": {
    "tags": []
   },
   "outputs": [
    {
     "output_type": "stream",
     "name": "stdout",
     "text": "{'first': 'Forrest', 'last': 'Rein', 'pay': '35000', 'email': 'forrest.rein@company.com'}\n"
    }
   ],
   "source": [
    "new_emp_2 = Employee.from_string(emp_str_2)\n",
    "print(new_emp_2.__dict__)"
   ]
  },
  {
   "cell_type": "code",
   "execution_count": 31,
   "metadata": {
    "tags": []
   },
   "outputs": [
    {
     "output_type": "stream",
     "name": "stdout",
     "text": "{'first': 'Denita', 'last': 'Mcinnis', 'pay': '60000', 'email': 'denita.mcinnis@company.com'}\n"
    }
   ],
   "source": [
    "new_emp_3 = Employee.from_string(emp_str_3)\n",
    "print(new_emp_3.__dict__)"
   ]
  },
  {
   "source": [
    "# static methods"
   ],
   "cell_type": "markdown",
   "metadata": {}
  },
  {
   "cell_type": "code",
   "execution_count": 35,
   "metadata": {},
   "outputs": [],
   "source": [
    "class Employee:\n",
    "\n",
    "    num_of_employees = 0\n",
    "    raise_amount = 1.05\n",
    "\n",
    "    def __init__(self, first, last, pay):\n",
    "        self.first = first\n",
    "        self.last = last\n",
    "        self.pay = pay\n",
    "        self.email = first.lower() + '.' + last.lower() + '@company.com'\n",
    "        Employee.num_of_employees += 1\n",
    "\n",
    "    def fullname(self):\n",
    "        return self.first + ' ' + self.last\n",
    "\n",
    "    def apply_raise(self):\n",
    "        self.pay = int(self.pay * Employee.raise_amount) \n",
    "\n",
    "    @classmethod\n",
    "    def set_raise_amount(cls, amount):\n",
    "        cls.raise_amount = amount\n",
    "\n",
    "    @classmethod #alternative constructor\n",
    "    def from_string(cls, employee_string):\n",
    "        first, last, pay = employee_string.split(\"-\")\n",
    "        return cls(first,last,pay)\n",
    "\n",
    "    @staticmethod\n",
    "    def is_workday(day):\n",
    "        if day.weekday() == 5 or day.weekday() == 6:\n",
    "            return False\n",
    "        return True"
   ]
  },
  {
   "cell_type": "code",
   "execution_count": 39,
   "metadata": {
    "tags": []
   },
   "outputs": [
    {
     "output_type": "stream",
     "name": "stdout",
     "text": "True\nFalse\n"
    }
   ],
   "source": [
    "import datetime\n",
    "\n",
    "my_date_1 = datetime.date(2016, 7, 12)\n",
    "print(Employee.is_workday(my_date_1))\n",
    "\n",
    "my_date_2 = datetime.date(2016, 7, 10)\n",
    "print(Employee.is_workday(my_date_2))\n"
   ]
  },
  {
   "cell_type": "code",
   "execution_count": null,
   "metadata": {},
   "outputs": [],
   "source": []
  }
 ]
}