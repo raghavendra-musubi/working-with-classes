{
 "metadata": {
  "language_info": {
   "codemirror_mode": {
    "name": "ipython",
    "version": 3
   },
   "file_extension": ".py",
   "mimetype": "text/x-python",
   "name": "python",
   "nbconvert_exporter": "python",
   "pygments_lexer": "ipython3",
   "version": "3.8.5-final"
  },
  "orig_nbformat": 2,
  "kernelspec": {
   "name": "Python 3.8.5 64-bit",
   "display_name": "Python 3.8.5 64-bit",
   "metadata": {
    "interpreter": {
     "hash": "082e9a3bcad0a290d0001e938aa60b99250c6c2ef33a923c00b70f9826caf4b7"
    }
   }
  }
 },
 "nbformat": 4,
 "nbformat_minor": 2,
 "cells": [
  {
   "source": [
    "# classmethods & staticmethods\n",
    "\n",
    "- regular methods automatically take the instance as the first argument\n",
    "    - by convention, it is called `self`\n",
    "\n",
    "- class methods takes the class itself as the first argument \n",
    "    - by convention, it is called `cls`\n",
    "    - the full word `class` is a python keyword \n",
    "        - and cannot be used as the first class method argument\n",
    "\n",
    "- static methods do not take either the instance or the class as the first argument of the method"
   ],
   "cell_type": "markdown",
   "metadata": {}
  },
  {
   "cell_type": "code",
   "execution_count": 7,
   "metadata": {},
   "outputs": [],
   "source": [
    "class Employee:\n",
    "\n",
    "    num_of_employees = 0\n",
    "    raise_amount = 1.05\n",
    "\n",
    "    def __init__(self, first, last, pay):\n",
    "        self.first = first\n",
    "        self.last = last\n",
    "        self.pay = pay\n",
    "        self.email = first.lower() + '.' + last.lower() + '@company.com'\n",
    "        Employee.num_of_employees += 1\n",
    "\n",
    "    def fullname(self):\n",
    "        return self.first + ' ' + self.last\n",
    "\n",
    "    def apply_raise(self):\n",
    "        self.pay = int(self.pay * Employee.raise_amount) \n",
    "\n",
    "    @classmethod\n",
    "    def set_raise_amount(cls,amount):\n",
    "        cls.raise_amount = amount\n",
    "\n",
    "        "
   ]
  },
  {
   "cell_type": "code",
   "execution_count": 8,
   "metadata": {
    "tags": []
   },
   "outputs": [
    {
     "output_type": "stream",
     "name": "stdout",
     "text": "1.05\n1.05\n1.05\n"
    }
   ],
   "source": [
    "emp_3 = Employee('Malcom','Stonerock',70000)\n",
    "emp_4 = Employee('Hedwig','Perz',80000)\n",
    "\n",
    "print(Employee.raise_amount)\n",
    "print(emp_3.raise_amount)\n",
    "print(emp_4.raise_amount)"
   ]
  },
  {
   "cell_type": "code",
   "execution_count": 10,
   "metadata": {
    "tags": []
   },
   "outputs": [
    {
     "output_type": "stream",
     "name": "stdout",
     "text": "1.06\n1.06\n1.06\n"
    }
   ],
   "source": [
    "Employee.set_raise_amount(1.06)\n",
    "\n",
    "print(Employee.raise_amount)\n",
    "print(emp_3.raise_amount)\n",
    "print(emp_4.raise_amount)"
   ]
  },
  {
   "cell_type": "code",
   "execution_count": null,
   "metadata": {},
   "outputs": [],
   "source": []
  }
 ]
}