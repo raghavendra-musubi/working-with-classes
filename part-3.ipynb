{
 "metadata": {
  "language_info": {
   "codemirror_mode": {
    "name": "ipython",
    "version": 3
   },
   "file_extension": ".py",
   "mimetype": "text/x-python",
   "name": "python",
   "nbconvert_exporter": "python",
   "pygments_lexer": "ipython3",
   "version": "3.8.5-final"
  },
  "orig_nbformat": 2,
  "kernelspec": {
   "name": "Python 3.8.5 64-bit",
   "display_name": "Python 3.8.5 64-bit",
   "metadata": {
    "interpreter": {
     "hash": "082e9a3bcad0a290d0001e938aa60b99250c6c2ef33a923c00b70f9826caf4b7"
    }
   }
  }
 },
 "nbformat": 4,
 "nbformat_minor": 2,
 "cells": [
  {
   "source": [
    "# Inheritance and Sub-classes\n",
    "\n",
    "- allows to inherit attributes and methods from a parent class into a sub-class"
   ],
   "cell_type": "markdown",
   "metadata": {}
  },
  {
   "cell_type": "code",
   "execution_count": 23,
   "metadata": {},
   "outputs": [],
   "source": [
    "class Employee:\n",
    "\n",
    "    raise_amount = 1.04\n",
    "\n",
    "    def __init__(self, first, last, pay):\n",
    "        self.first = first\n",
    "        self.last = last\n",
    "        self.pay = pay\n",
    "        self.email = first.lower() + '.' + last.lower() + '@company.com'\n",
    "\n",
    "    def fullname(self):\n",
    "        return self.first + ' ' + self.last\n",
    "\n",
    "    def apply_raise(self):\n",
    "        self.pay = int(self.pay * self.raise_amount) "
   ]
  },
  {
   "cell_type": "code",
   "execution_count": 24,
   "metadata": {
    "tags": []
   },
   "outputs": [
    {
     "output_type": "stream",
     "name": "stdout",
     "text": "anthony.soderberg@company.com\nleo.lovato@company.com\n"
    }
   ],
   "source": [
    "dev_1 = Employee(\"Anthony\", \"Soderberg\", 50000)\n",
    "dev_2 = Employee(\"Leo\", \"Lovato\", 60000)\n",
    "\n",
    "print(dev_1.email)\n",
    "print(dev_2.email)"
   ]
  },
  {
   "source": [
    "### Creating a sub-class"
   ],
   "cell_type": "markdown",
   "metadata": {}
  },
  {
   "cell_type": "code",
   "execution_count": 25,
   "metadata": {},
   "outputs": [],
   "source": [
    "class Developer(Employee):\n",
    "    pass"
   ]
  },
  {
   "cell_type": "code",
   "execution_count": 26,
   "metadata": {
    "tags": []
   },
   "outputs": [
    {
     "output_type": "stream",
     "name": "stdout",
     "text": "anthony.soderberg@company.com\nleo.lovato@company.com\n"
    }
   ],
   "source": [
    "dev_1 = Developer(\"Anthony\", \"Soderberg\", 50000)\n",
    "dev_2 = Developer(\"Leo\", \"Lovato\", 60000)\n",
    "\n",
    "print(dev_1.email)\n",
    "print(dev_2.email)"
   ]
  },
  {
   "cell_type": "code",
   "execution_count": 27,
   "metadata": {
    "tags": []
   },
   "outputs": [
    {
     "output_type": "stream",
     "name": "stdout",
     "text": "Help on class Developer in module __main__:\n\nclass Developer(Employee)\n |  Developer(first, last, pay)\n |  \n |  Method resolution order:\n |      Developer\n |      Employee\n |      builtins.object\n |  \n |  Methods inherited from Employee:\n |  \n |  __init__(self, first, last, pay)\n |      Initialize self.  See help(type(self)) for accurate signature.\n |  \n |  apply_raise(self)\n |  \n |  fullname(self)\n |  \n |  ----------------------------------------------------------------------\n |  Data descriptors inherited from Employee:\n |  \n |  __dict__\n |      dictionary for instance variables (if defined)\n |  \n |  __weakref__\n |      list of weak references to the object (if defined)\n |  \n |  ----------------------------------------------------------------------\n |  Data and other attributes inherited from Employee:\n |  \n |  raise_amount = 1.04\n\nNone\n"
    }
   ],
   "source": [
    "print(help(Developer))"
   ]
  },
  {
   "cell_type": "code",
   "execution_count": 28,
   "metadata": {
    "tags": []
   },
   "outputs": [
    {
     "output_type": "stream",
     "name": "stdout",
     "text": "50000\n52000\n"
    }
   ],
   "source": [
    "print(dev_1.pay)\n",
    "dev_1.apply_raise()\n",
    "print(dev_1.pay)"
   ]
  },
  {
   "source": [
    "### Modify Internal Value in sub-class"
   ],
   "cell_type": "markdown",
   "metadata": {}
  },
  {
   "cell_type": "code",
   "execution_count": 29,
   "metadata": {},
   "outputs": [],
   "source": [
    "class Developer(Employee):\n",
    "    \n",
    "    raise_amount = 1.16"
   ]
  },
  {
   "cell_type": "code",
   "execution_count": 30,
   "metadata": {},
   "outputs": [],
   "source": [
    "dev_1 = Developer(\"Anthony\", \"Soderberg\", 50000)\n",
    "dev_2 = Developer(\"Leo\", \"Lovato\", 60000)"
   ]
  },
  {
   "cell_type": "code",
   "execution_count": 31,
   "metadata": {
    "tags": []
   },
   "outputs": [
    {
     "output_type": "stream",
     "name": "stdout",
     "text": "60000\n69600\n"
    }
   ],
   "source": [
    "print(dev_2.pay)\n",
    "dev_2.apply_raise()\n",
    "print(dev_2.pay)"
   ]
  },
  {
   "cell_type": "code",
   "execution_count": 33,
   "metadata": {},
   "outputs": [
    {
     "output_type": "execute_result",
     "data": {
      "text/plain": "0.16"
     },
     "metadata": {},
     "execution_count": 33
    }
   ],
   "source": [
    "(69600-60000)/60000"
   ]
  },
  {
   "source": [
    "### make more changes to sub-class"
   ],
   "cell_type": "markdown",
   "metadata": {}
  },
  {
   "cell_type": "code",
   "execution_count": 38,
   "metadata": {},
   "outputs": [],
   "source": [
    "class Developer(Employee):\n",
    "    \n",
    "    raise_amount = 1.16\n",
    "\n",
    "    def __init__(self, first, last, pay, prog_lang):\n",
    "        super().__init__(first,last,pay) # good for single inheritance\n",
    "        # or\n",
    "        # Employee.__init__(self,first,last,pay)\n",
    "        self.prog_lang = prog_lang"
   ]
  },
  {
   "cell_type": "code",
   "execution_count": 40,
   "metadata": {
    "tags": []
   },
   "outputs": [
    {
     "output_type": "execute_result",
     "data": {
      "text/plain": "{'first': 'Timika',\n 'last': 'Acheson',\n 'pay': 50000,\n 'email': 'timika.acheson@company.com',\n 'prog_lang': 'Python'}"
     },
     "metadata": {},
     "execution_count": 40
    }
   ],
   "source": [
    "dev_3 = Developer(\"Timika\", \"Acheson\", 50000, \"Python\")\n",
    "dev_3.__dict__"
   ]
  },
  {
   "source": [
    "### Create a different sub-class"
   ],
   "cell_type": "markdown",
   "metadata": {}
  },
  {
   "cell_type": "code",
   "execution_count": 51,
   "metadata": {},
   "outputs": [],
   "source": [
    "class Manager(Employee):\n",
    "\n",
    "    def __init__(self, first, last, pay, employees=None):\n",
    "        super().__init__(first,last,pay) # good for single inheritance \n",
    "        if employees is None:\n",
    "            self.employees = []\n",
    "        else:\n",
    "            self.employees = employees\n",
    "\n",
    "    def add_employee(self, employee):\n",
    "        if employee not in self.employees:\n",
    "            self.employees.append(employee)\n",
    "\n",
    "    def remove_employee(self, employee):\n",
    "        if employee in self.employees:\n",
    "            self.employees.remove(employee)\n",
    "\n",
    "    def print_employees(self):\n",
    "        for employee in self.employees:\n",
    "            print('-->', employee.fullname())\n"
   ]
  },
  {
   "cell_type": "code",
   "execution_count": 52,
   "metadata": {},
   "outputs": [
    {
     "output_type": "execute_result",
     "data": {
      "text/plain": "{'first': 'Leatha',\n 'last': 'Dahlen',\n 'pay': 90000,\n 'email': 'leatha.dahlen@company.com',\n 'employees': [<__main__.Developer at 0x110ee8eb0>,\n  <__main__.Developer at 0x110ee8280>]}"
     },
     "metadata": {},
     "execution_count": 52
    }
   ],
   "source": [
    "mgr_1 = Manager(\"Leatha\", \"Dahlen\", 90000, [dev_1, dev_2])\n",
    "mgr_1.__dict__"
   ]
  },
  {
   "cell_type": "code",
   "execution_count": 53,
   "metadata": {
    "tags": []
   },
   "outputs": [
    {
     "output_type": "stream",
     "name": "stdout",
     "text": "--> Anthony Soderberg\n--> Leo Lovato\n"
    }
   ],
   "source": [
    "mgr_1.print_employees() # test print employees method"
   ]
  },
  {
   "cell_type": "code",
   "execution_count": 55,
   "metadata": {
    "tags": []
   },
   "outputs": [
    {
     "output_type": "stream",
     "name": "stdout",
     "text": "--> Anthony Soderberg\n"
    }
   ],
   "source": [
    "mgr_1.remove_employee(dev_2) # test remove employee function\n",
    "mgr_1.print_employees()"
   ]
  },
  {
   "cell_type": "code",
   "execution_count": 56,
   "metadata": {
    "tags": []
   },
   "outputs": [
    {
     "output_type": "stream",
     "name": "stdout",
     "text": "--> Anthony Soderberg\n--> Leo Lovato\n"
    }
   ],
   "source": [
    "mgr_1.add_employee(dev_2) # test add employee function\n",
    "mgr_1.print_employees()"
   ]
  },
  {
   "source": [
    "### Check if given instance is of a given class"
   ],
   "cell_type": "markdown",
   "metadata": {}
  },
  {
   "cell_type": "code",
   "execution_count": 61,
   "metadata": {
    "tags": []
   },
   "outputs": [
    {
     "output_type": "stream",
     "name": "stdout",
     "text": "True\nTrue\nFalse\nTrue\n"
    }
   ],
   "source": [
    "print(isinstance(mgr_1,Manager))\n",
    "print(isinstance(dev_1,Employee))\n",
    "print(isinstance(dev_1,Developer))\n",
    "print(isinstance(dev_3,Developer))"
   ]
  },
  {
   "source": [
    "### Check if given class is ib-class of parent"
   ],
   "cell_type": "markdown",
   "metadata": {}
  },
  {
   "cell_type": "code",
   "execution_count": 62,
   "metadata": {
    "tags": []
   },
   "outputs": [
    {
     "output_type": "stream",
     "name": "stdout",
     "text": "True\n"
    }
   ],
   "source": [
    "print(issubclass(Manager, Employee))"
   ]
  },
  {
   "cell_type": "code",
   "execution_count": 63,
   "metadata": {
    "tags": []
   },
   "outputs": [
    {
     "output_type": "stream",
     "name": "stdout",
     "text": "True\n"
    }
   ],
   "source": [
    "print(issubclass(Developer, Employee))"
   ]
  },
  {
   "cell_type": "code",
   "execution_count": null,
   "metadata": {},
   "outputs": [],
   "source": []
  }
 ]
}