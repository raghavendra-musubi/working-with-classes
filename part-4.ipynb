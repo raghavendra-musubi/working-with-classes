{
 "metadata": {
  "language_info": {
   "codemirror_mode": {
    "name": "ipython",
    "version": 3
   },
   "file_extension": ".py",
   "mimetype": "text/x-python",
   "name": "python",
   "nbconvert_exporter": "python",
   "pygments_lexer": "ipython3",
   "version": "3.8.5-final"
  },
  "orig_nbformat": 2,
  "kernelspec": {
   "name": "Python 3.8.5 64-bit",
   "display_name": "Python 3.8.5 64-bit",
   "metadata": {
    "interpreter": {
     "hash": "082e9a3bcad0a290d0001e938aa60b99250c6c2ef33a923c00b70f9826caf4b7"
    }
   }
  }
 },
 "nbformat": 4,
 "nbformat_minor": 2,
 "cells": [
  {
   "source": [
    "# Dunder Methods\n",
    "\n",
    "- special methods that can be used inside classes\n",
    "- allows to emulate built-in behavior in python"
   ],
   "cell_type": "markdown",
   "metadata": {}
  },
  {
   "cell_type": "code",
   "execution_count": 2,
   "metadata": {
    "tags": []
   },
   "outputs": [
    {
     "output_type": "stream",
     "name": "stdout",
     "text": "3\nab\n"
    }
   ],
   "source": [
    "print(1 + 2)\n",
    "print('a' + 'b')"
   ]
  },
  {
   "cell_type": "code",
   "execution_count": 3,
   "metadata": {},
   "outputs": [],
   "source": [
    "class Employee:\n",
    "\n",
    "    raise_amount = 1.04\n",
    "\n",
    "    def __init__(self, first, last, pay):\n",
    "        self.first = first\n",
    "        self.last = last\n",
    "        self.pay = pay\n",
    "        self.email = first.lower() + '.' + last.lower() + '@company.com'\n",
    "\n",
    "    def fullname(self):\n",
    "        return self.first + ' ' + self.last\n",
    "\n",
    "    def apply_raise(self):\n",
    "        self.pay = int(self.pay * self.raise_amount) "
   ]
  },
  {
   "cell_type": "code",
   "execution_count": 4,
   "metadata": {},
   "outputs": [],
   "source": [
    "emp_1 = Employee('Malcom','Stonerock',70000)\n",
    "emp_2 = Employee('Hedwig','Perz',80000)"
   ]
  },
  {
   "cell_type": "code",
   "execution_count": 5,
   "metadata": {
    "tags": []
   },
   "outputs": [
    {
     "output_type": "stream",
     "name": "stdout",
     "text": "<__main__.Employee object at 0x11236f640>\n"
    }
   ],
   "source": [
    "print(emp_1)"
   ]
  },
  {
   "source": [
    "- these special methods are always surrounded by double-underscores,\n",
    "    - the double underscores are called dunders\n",
    "    - `__init__` is the standard dunder function in most Classes\n",
    "    - is implicitly called when instantiating an object from a Class\n",
    "\n",
    "\n",
    "- other commonly used dunder functions are \n",
    "    - `__repr__`: gets called implicitly when `repr(object)` is called \n",
    "        - meant to be an unambiguious representation of an object\n",
    "        - useful for debugging and is for other developers\n",
    "    - `__str__`: gets called implicitly when `str(object)` is called \n",
    "        - a readable representation of an object \n",
    "        - used for display purposed for the end user"
   ],
   "cell_type": "markdown",
   "metadata": {}
  },
  {
   "cell_type": "code",
   "execution_count": 9,
   "metadata": {},
   "outputs": [],
   "source": [
    "class Employee:\n",
    "\n",
    "    raise_amount = 1.04\n",
    "\n",
    "    def __init__(self, first, last, pay):\n",
    "        self.first = first\n",
    "        self.last = last\n",
    "        self.pay = pay\n",
    "        self.email = first.lower() + '.' + last.lower() + '@company.com'\n",
    "\n",
    "    def fullname(self):\n",
    "        return self.first + ' ' + self.last\n",
    "\n",
    "    def apply_raise(self):\n",
    "        self.pay = int(self.pay * self.raise_amount) \n",
    "\n",
    "    def __repr__(self):\n",
    "        return \"Employee('{}','{}',{})\".format(self.first, self.last, self.pay)\n"
   ]
  },
  {
   "cell_type": "code",
   "execution_count": 10,
   "metadata": {},
   "outputs": [],
   "source": [
    "emp_1 = Employee('Malcom','Stonerock',70000)"
   ]
  },
  {
   "cell_type": "code",
   "execution_count": 12,
   "metadata": {
    "tags": []
   },
   "outputs": [
    {
     "output_type": "stream",
     "name": "stdout",
     "text": "Employee('Malcom','Stonerock',70000)\n"
    }
   ],
   "source": [
    "print(emp_1)"
   ]
  },
  {
   "cell_type": "code",
   "execution_count": 17,
   "metadata": {},
   "outputs": [],
   "source": [
    "class Employee:\n",
    "\n",
    "    raise_amount = 1.04\n",
    "\n",
    "    def __init__(self, first, last, pay):\n",
    "        self.first = first\n",
    "        self.last = last\n",
    "        self.pay = pay\n",
    "        self.email = first.lower() + '.' + last.lower() + '@company.com'\n",
    "\n",
    "    def fullname(self):\n",
    "        return self.first + ' ' + self.last\n",
    "\n",
    "    def apply_raise(self):\n",
    "        self.pay = int(self.pay * self.raise_amount) \n",
    "\n",
    "    def __repr__(self):\n",
    "        return \"Employee('{}','{}',{})\".format(self.first, self.last, self.pay)\n",
    "\n",
    "    def __str__(self):\n",
    "        return \"{} - {}\".format(self.fullname(), self.email)"
   ]
  },
  {
   "cell_type": "code",
   "execution_count": 18,
   "metadata": {
    "tags": []
   },
   "outputs": [
    {
     "output_type": "stream",
     "name": "stdout",
     "text": "Hedwig Perz - hedwig.perz@company.com\n"
    }
   ],
   "source": [
    "emp_2 = Employee('Hedwig','Perz',80000)\n",
    "print(emp_2)"
   ]
  },
  {
   "cell_type": "code",
   "execution_count": 19,
   "metadata": {
    "tags": []
   },
   "outputs": [
    {
     "output_type": "stream",
     "name": "stdout",
     "text": "Employee('Hedwig','Perz',80000)\nHedwig Perz - hedwig.perz@company.com\n"
    }
   ],
   "source": [
    "print(repr(emp_2))\n",
    "print(str(emp_2))"
   ]
  },
  {
   "cell_type": "code",
   "execution_count": 20,
   "metadata": {
    "tags": []
   },
   "outputs": [
    {
     "output_type": "stream",
     "name": "stdout",
     "text": "Employee('Hedwig','Perz',80000)\nHedwig Perz - hedwig.perz@company.com\n"
    }
   ],
   "source": [
    "print(emp_2.__repr__())\n",
    "print(emp_2.__str__())"
   ]
  },
  {
   "source": [
    "### Special methods for arithmetic"
   ],
   "cell_type": "markdown",
   "metadata": {}
  },
  {
   "cell_type": "code",
   "execution_count": 21,
   "metadata": {
    "tags": []
   },
   "outputs": [
    {
     "output_type": "stream",
     "name": "stdout",
     "text": "3\n"
    }
   ],
   "source": [
    "print(1+2)"
   ]
  },
  {
   "cell_type": "code",
   "execution_count": 23,
   "metadata": {
    "tags": []
   },
   "outputs": [
    {
     "output_type": "stream",
     "name": "stdout",
     "text": "7\n"
    }
   ],
   "source": [
    "print(int.__add__(3,4))"
   ]
  },
  {
   "cell_type": "code",
   "execution_count": 24,
   "metadata": {
    "tags": []
   },
   "outputs": [
    {
     "output_type": "stream",
     "name": "stdout",
     "text": "cd\n"
    }
   ],
   "source": [
    "print(str.__add__('c','d'))"
   ]
  },
  {
   "source": [
    "- so the behavior for the arithmetic operators can be changed \n",
    "\n",
    "- for instance, "
   ],
   "cell_type": "markdown",
   "metadata": {}
  },
  {
   "cell_type": "code",
   "execution_count": 25,
   "metadata": {},
   "outputs": [],
   "source": [
    "class Employee:\n",
    "\n",
    "    raise_amount = 1.04\n",
    "\n",
    "    def __init__(self, first, last, pay):\n",
    "        self.first = first\n",
    "        self.last = last\n",
    "        self.pay = pay\n",
    "        self.email = first.lower() + '.' + last.lower() + '@company.com'\n",
    "\n",
    "    def fullname(self):\n",
    "        return self.first + ' ' + self.last\n",
    "\n",
    "    def apply_raise(self):\n",
    "        self.pay = int(self.pay * self.raise_amount) \n",
    "\n",
    "    def __repr__(self):\n",
    "        return \"Employee('{}','{}',{})\".format(self.first, self.last, self.pay)\n",
    "\n",
    "    def __str__(self):\n",
    "        return \"{} - {}\".format(self.fullname(), self.email)\n",
    "\n",
    "    def __add__(self, other):\n",
    "        return self.pay + other.pay"
   ]
  },
  {
   "cell_type": "code",
   "execution_count": 26,
   "metadata": {
    "tags": []
   },
   "outputs": [
    {
     "output_type": "stream",
     "name": "stdout",
     "text": "150000\n"
    }
   ],
   "source": [
    "emp_1 = Employee('Malcom','Stonerock',70000)\n",
    "emp_2 = Employee('Hedwig','Perz',80000)\n",
    "print(emp_1+emp_2)"
   ]
  },
  {
   "cell_type": "code",
   "execution_count": 27,
   "metadata": {},
   "outputs": [],
   "source": [
    "class Employee:\n",
    "\n",
    "    raise_amount = 1.04\n",
    "\n",
    "    def __init__(self, first, last, pay):\n",
    "        self.first = first\n",
    "        self.last = last\n",
    "        self.pay = pay\n",
    "        self.email = first.lower() + '.' + last.lower() + '@company.com'\n",
    "\n",
    "    def fullname(self):\n",
    "        return self.first + ' ' + self.last\n",
    "\n",
    "    def apply_raise(self):\n",
    "        self.pay = int(self.pay * self.raise_amount) \n",
    "\n",
    "    def __repr__(self):\n",
    "        return \"Employee('{}','{}',{})\".format(self.first, self.last, self.pay)\n",
    "\n",
    "    def __str__(self):\n",
    "        return \"{} - {}\".format(self.fullname(), self.email)\n",
    "\n",
    "    def __add__(self, other):\n",
    "        return self.pay + other.pay\n",
    "\n",
    "    def __len__(self):\n",
    "        return len(self.fullname())"
   ]
  },
  {
   "cell_type": "code",
   "execution_count": 28,
   "metadata": {},
   "outputs": [],
   "source": [
    "emp_1 = Employee('Malcom','Stonerock',70000)"
   ]
  },
  {
   "cell_type": "code",
   "execution_count": 30,
   "metadata": {
    "tags": []
   },
   "outputs": [
    {
     "output_type": "stream",
     "name": "stdout",
     "text": "Malcom Stonerock\n16\n"
    }
   ],
   "source": [
    "print(emp_1.fullname())\n",
    "print(len(emp_1))"
   ]
  }
 ]
}