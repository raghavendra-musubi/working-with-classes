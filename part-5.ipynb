{
 "metadata": {
  "language_info": {
   "codemirror_mode": {
    "name": "ipython",
    "version": 3
   },
   "file_extension": ".py",
   "mimetype": "text/x-python",
   "name": "python",
   "nbconvert_exporter": "python",
   "pygments_lexer": "ipython3",
   "version": "3.8.5-final"
  },
  "orig_nbformat": 2,
  "kernelspec": {
   "name": "Python 3.8.5 64-bit",
   "display_name": "Python 3.8.5 64-bit",
   "metadata": {
    "interpreter": {
     "hash": "082e9a3bcad0a290d0001e938aa60b99250c6c2ef33a923c00b70f9826caf4b7"
    }
   }
  }
 },
 "nbformat": 4,
 "nbformat_minor": 2,
 "cells": [
  {
   "source": [
    "# Property Decorators\n",
    "\n",
    "- enables giving class attributes functionalities such as\n",
    "    - getter \n",
    "    - setter and \n",
    "    - deleter "
   ],
   "cell_type": "markdown",
   "metadata": {}
  },
  {
   "cell_type": "code",
   "execution_count": 4,
   "metadata": {},
   "outputs": [],
   "source": [
    "class Employee:\n",
    "\n",
    "    def __init__(self, first, last):\n",
    "        self.first = first\n",
    "        self.last = last\n",
    "        self.email = first.lower() + '.' + last.lower() + '@company.com'\n",
    "\n",
    "    def fullname(self):\n",
    "        return self.first + ' ' + self.last"
   ]
  },
  {
   "cell_type": "code",
   "execution_count": 7,
   "metadata": {
    "tags": []
   },
   "outputs": [
    {
     "output_type": "stream",
     "name": "stdout",
     "text": "John\njohn.doe@company.com\nJohn Doe\n"
    }
   ],
   "source": [
    "emp_1 = Employee('John','Doe')\n",
    "\n",
    "print(emp_1.first)\n",
    "print(emp_1.email)\n",
    "print(emp_1.fullname())"
   ]
  },
  {
   "cell_type": "code",
   "execution_count": 9,
   "metadata": {
    "tags": []
   },
   "outputs": [
    {
     "output_type": "stream",
     "name": "stdout",
     "text": "Jim\njohn.doe@company.com\nJim Doe\n"
    }
   ],
   "source": [
    "emp_1.first = 'Jim'\n",
    "\n",
    "print(emp_1.first)\n",
    "print(emp_1.email)\n",
    "print(emp_1.fullname())"
   ]
  },
  {
   "source": [
    "- with the right decorators, methods can be accessed like atributes\n",
    "\n",
    "- getters, setters and deleters allow for refactoring code from using attributes to using methods to change attribute values"
   ],
   "cell_type": "markdown",
   "metadata": {}
  },
  {
   "cell_type": "code",
   "execution_count": 14,
   "metadata": {},
   "outputs": [],
   "source": [
    "class Employee:\n",
    "\n",
    "    def __init__(self, first, last):\n",
    "        self.first = first\n",
    "        self.last = last\n",
    "    \n",
    "    def email(self):\n",
    "        return \"{}.{}@company.com\".format(self.first, self.last)\n",
    "\n",
    "    def fullname(self):\n",
    "        return self.first + ' ' + self.last"
   ]
  },
  {
   "cell_type": "code",
   "execution_count": 15,
   "metadata": {
    "tags": []
   },
   "outputs": [
    {
     "output_type": "stream",
     "name": "stdout",
     "text": "Jim\nJim.Doe@company.com\nJim Doe\n"
    }
   ],
   "source": [
    "emp_1 = Employee('John','Doe')\n",
    "\n",
    "emp_1.first = 'Jim'\n",
    "\n",
    "print(emp_1.first)\n",
    "print(emp_1.email())\n",
    "print(emp_1.fullname())"
   ]
  },
  {
   "source": [
    "- the above way needs the email to be accessed as a method and not an attribute"
   ],
   "cell_type": "markdown",
   "metadata": {}
  },
  {
   "source": [
    "### Using a decorator to make methods accessible as attributes"
   ],
   "cell_type": "markdown",
   "metadata": {}
  },
  {
   "cell_type": "code",
   "execution_count": 18,
   "metadata": {},
   "outputs": [],
   "source": [
    "class Employee:\n",
    "\n",
    "    def __init__(self, first, last):\n",
    "        self.first = first\n",
    "        self.last = last\n",
    "    \n",
    "    @property # getter function definition\n",
    "    def email(self):\n",
    "        return \"{}.{}@company.com\".format(self.first, self.last)\n",
    "\n",
    "    def fullname(self):\n",
    "        return self.first + ' ' + self.last"
   ]
  },
  {
   "cell_type": "code",
   "execution_count": 19,
   "metadata": {
    "tags": []
   },
   "outputs": [
    {
     "output_type": "stream",
     "name": "stdout",
     "text": "Jim\nJim.Doe@company.com\nJim Doe\n"
    }
   ],
   "source": [
    "emp_1 = Employee('John','Doe')\n",
    "\n",
    "emp_1.first = 'Jim'\n",
    "\n",
    "print(emp_1.first)\n",
    "print(emp_1.email) # getter function usage\n",
    "print(emp_1.fullname())"
   ]
  },
  {
   "source": [
    "### Defining a setter"
   ],
   "cell_type": "markdown",
   "metadata": {}
  },
  {
   "cell_type": "code",
   "execution_count": 20,
   "metadata": {},
   "outputs": [],
   "source": [
    "class Employee:\n",
    "\n",
    "    def __init__(self, first, last):\n",
    "        self.first = first\n",
    "        self.last = last\n",
    "    \n",
    "    @property # getter function definition\n",
    "    def email(self):\n",
    "        return \"{}.{}@company.com\".format(self.first, self.last)\n",
    "\n",
    "    @property # setter function defintion\n",
    "    def fullname(self):\n",
    "        return self.first + ' ' + self.last"
   ]
  },
  {
   "cell_type": "code",
   "execution_count": 23,
   "metadata": {
    "tags": []
   },
   "outputs": [
    {
     "output_type": "stream",
     "name": "stdout",
     "text": "John\nJohn.Doe@company.com\nJohn Doe\n"
    }
   ],
   "source": [
    "emp_1 = Employee('John','Doe')\n",
    "\n",
    "emp_1.fullanme = 'Corey Schafer'\n",
    "\n",
    "print(emp_1.first)\n",
    "print(emp_1.email) # getter function usage\n",
    "print(emp_1.fullname)"
   ]
  },
  {
   "cell_type": "code",
   "execution_count": 31,
   "metadata": {},
   "outputs": [],
   "source": [
    "class Employee:\n",
    "\n",
    "    def __init__(self, first, last):\n",
    "        self.first = first\n",
    "        self.last = last\n",
    "    \n",
    "    @property # getter function definition\n",
    "    def email(self):\n",
    "        return \"{}.{}@company.com\".format(self.first, self.last)\n",
    "\n",
    "    @property # setter function defintion\n",
    "    def fullname(self):\n",
    "        return self.first + ' ' + self.last\n",
    "\n",
    "    @fullname.setter\n",
    "    def fullname(self, name):\n",
    "        self.first, self.last = name.split(' ')\n",
    " \n",
    "        "
   ]
  },
  {
   "cell_type": "code",
   "execution_count": 32,
   "metadata": {
    "tags": []
   },
   "outputs": [
    {
     "output_type": "stream",
     "name": "stdout",
     "text": "Corey\nCorey.Schafer@company.com\nCorey Schafer\n"
    }
   ],
   "source": [
    "emp_1 = Employee('John','Doe')\n",
    "\n",
    "emp_1.fullname = 'Corey Schafer'\n",
    "\n",
    "print(emp_1.first)\n",
    "print(emp_1.email) # getter function usage\n",
    "print(emp_1.fullname)"
   ]
  },
  {
   "source": [
    "### Creating a Deleter"
   ],
   "cell_type": "markdown",
   "metadata": {}
  },
  {
   "cell_type": "code",
   "execution_count": 35,
   "metadata": {},
   "outputs": [],
   "source": [
    "class Employee:\n",
    "\n",
    "    def __init__(self, first, last):\n",
    "        self.first = first\n",
    "        self.last = last\n",
    "    \n",
    "    @property # getter function definition\n",
    "    def email(self):\n",
    "        return \"{}.{}@company.com\".format(self.first, self.last)\n",
    "\n",
    "    @property # setter function defintion\n",
    "    def fullname(self):\n",
    "        return self.first + ' ' + self.last\n",
    "\n",
    "    @fullname.setter\n",
    "    def fullname(self, name):\n",
    "        self.first, self.last = name.split(' ')\n",
    "\n",
    "    @fullname.deleter\n",
    "    def fullname(self):\n",
    "        print('Delete Name!')\n",
    "        self.first = None\n",
    "        self.last = None"
   ]
  },
  {
   "cell_type": "code",
   "execution_count": 37,
   "metadata": {
    "tags": []
   },
   "outputs": [
    {
     "output_type": "stream",
     "name": "stdout",
     "text": "Corey\nCorey.Schafer@company.com\nCorey Schafer\nDelete Name!\n"
    }
   ],
   "source": [
    "emp_1 = Employee('John','Doe')\n",
    "\n",
    "emp_1.fullname = 'Corey Schafer'\n",
    "\n",
    "print(emp_1.first)\n",
    "print(emp_1.email) # getter function usage\n",
    "print(emp_1.fullname)\n",
    "\n",
    "del emp_1.fullname"
   ]
  },
  {
   "cell_type": "code",
   "execution_count": 38,
   "metadata": {},
   "outputs": [
    {
     "output_type": "execute_result",
     "data": {
      "text/plain": "{'first': None, 'last': None}"
     },
     "metadata": {},
     "execution_count": 38
    }
   ],
   "source": [
    "emp_1.__dict__"
   ]
  }
 ]
}